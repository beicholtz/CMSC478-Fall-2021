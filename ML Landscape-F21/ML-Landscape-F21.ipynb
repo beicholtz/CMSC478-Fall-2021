{
 "cells": [
  {
   "cell_type": "markdown",
   "metadata": {
    "slideshow": {
     "slide_type": "slide"
    }
   },
   "source": [
    "<h1><center>Machine Learning</center></h1>\n",
    "\n",
    "<center><img src=\"img/title.jpg\" align=\"center\"/></center>\n",
    "\n",
    "\n",
    "<h3 style=\"color:blue;\"><center>Instructor: Fereydoon Vafaei</center></h3>\n",
    "\n",
    "\n",
    "<h5 style=\"color:purple;\"><center>The Machine Learning Landscpae</center></h5>\n",
    "\n",
    "<center><img src=\"img/UMBC_logo.png\" align=\"center\"/></center>"
   ]
  },
  {
   "cell_type": "markdown",
   "metadata": {
    "slideshow": {
     "slide_type": "slide"
    }
   },
   "source": [
    "<h1><center>Agenda</center></h1>\n",
    "\n",
    "- AI vs ML\n",
    "\n",
    "- Definition of ML\n",
    "\n",
    "- Pattern Recognition\n",
    "\n",
    "- ML Motivation\n",
    "\n",
    "- ML Pipeline\n",
    "\n",
    "- ML Applications\n",
    "\n",
    "- ML Approaches\n",
    "\n",
    "- ML Main Challenges"
   ]
  },
  {
   "cell_type": "markdown",
   "metadata": {
    "slideshow": {
     "slide_type": "slide"
    }
   },
   "source": [
    "<img src=\"img/ai_ml_dl.jpg\" align=\"center\"/>\n",
    "\n",
    "\n",
    "Image from: https://rapidminer.com/glossary/machine-learning/"
   ]
  },
  {
   "cell_type": "markdown",
   "metadata": {
    "slideshow": {
     "slide_type": "slide"
    }
   },
   "source": [
    "<h1><center>Definition of Machine Learning</center></h1>\n",
    "\n",
    "- \"Machine learning is the field of study that gives computers the ability to learn without being explicitly programmed.\" - Arthur Samuel\n",
    "\n",
    "- \"A computer program is said to learn from experience E with respect to some task T and some performance measure P, if its performance on T, as measured by P, improves with experience E.\" - Tom Mitchell"
   ]
  },
  {
   "cell_type": "markdown",
   "metadata": {
    "slideshow": {
     "slide_type": "slide"
    }
   },
   "source": [
    "<h1><center>Traditional Approach: Rule-Based - Symbolic AI</center></h1>\n",
    "\n",
    "\n",
    "<img src=\"img/fig-1-1-rule-based.png\" align=\"center\"/>\n",
    "\n",
    "<font size=1>Image from Hands-on ML Textbook</font>"
   ]
  },
  {
   "cell_type": "markdown",
   "metadata": {
    "slideshow": {
     "slide_type": "slide"
    }
   },
   "source": [
    "<h1><center>The Challenges of Rule-Based Systems</center></h1>\n",
    "\n",
    "\n",
    "<img src=\"img/flowcharts.png\" align=\"center\"/>"
   ]
  },
  {
   "cell_type": "markdown",
   "metadata": {
    "slideshow": {
     "slide_type": "slide"
    }
   },
   "source": [
    "<h1><center>ML Approach</center></h1>\n",
    "\n",
    "<center><img src=\"img/ml-approach.jpg\" align=\"center\"/></center>\n",
    "\n",
    "<font size=1>Image from Hands-on ML Textbook</font>"
   ]
  },
  {
   "cell_type": "markdown",
   "metadata": {
    "slideshow": {
     "slide_type": "slide"
    }
   },
   "source": [
    "<h1><center>ML Vs. Rule-Based</center></h1>\n",
    "\n",
    "- A Machine Learning system is trained rather than explicitly programmed.\n",
    "\n",
    "<img src=\"img/ML-vs-rule-based.png\" align=\"center\"/>\n",
    "\n",
    "<font size=1>Image from DL with Python Textbook (by Chollet)</font>"
   ]
  },
  {
   "cell_type": "markdown",
   "metadata": {
    "slideshow": {
     "slide_type": "slide"
    }
   },
   "source": [
    "<h1><center>Pattern Recognition - What Follows Next?</center></h1>\n",
    "\n",
    "- 2, 4, 6, 8, 10, 12, ?"
   ]
  },
  {
   "cell_type": "markdown",
   "metadata": {
    "slideshow": {
     "slide_type": "fragment"
    }
   },
   "source": [
    "- 2, 4, 6, 8, 10, 12, <b><font color=\"red\" bold=True> 13</font></b>"
   ]
  },
  {
   "cell_type": "markdown",
   "metadata": {
    "slideshow": {
     "slide_type": "fragment"
    }
   },
   "source": [
    "<h1><center>Why?</center></h1>"
   ]
  },
  {
   "cell_type": "markdown",
   "metadata": {
    "slideshow": {
     "slide_type": "slide"
    }
   },
   "source": [
    "<h1><center>Learning Patterns</center></h1>\n",
    "\n",
    "\n",
    "<img src=\"img/pattern-recognition.png\" align=\"center\"/>"
   ]
  },
  {
   "cell_type": "markdown",
   "metadata": {
    "slideshow": {
     "slide_type": "slide"
    }
   },
   "source": [
    "<h1><center>Why ML?</center></h1>\n",
    "\n",
    "- To address the challenge of maintenance of codes for complex problems - rule-based systems wouldn't work efficiently!\n",
    "- To address the challenge of dynamic data or environments\n",
    "- To address discovery or new knowlege in a domain\n",
    "- To address Big Data"
   ]
  },
  {
   "cell_type": "markdown",
   "metadata": {
    "slideshow": {
     "slide_type": "slide"
    }
   },
   "source": [
    "<h1><center>Interpretable ML</center></h1>\n",
    "\n",
    "<center><img src=\"img/ml_help.jpg\" align=\"center\"/></center>\n",
    "\n",
    "<font size=1>Image from Hands-on ML Textbook</font>"
   ]
  },
  {
   "cell_type": "markdown",
   "metadata": {
    "slideshow": {
     "slide_type": "slide"
    }
   },
   "source": [
    "<h1><center>Interpretable ML - Decision Trees</center></h1>\n",
    "\n",
    "- **Decision tree** is an example of **Interpretable ML** because the model is easily understood by humans unlike **blackbox** models (e.g. Random Forest) which need further explanation.\n",
    "\n",
    "- \"**Interpretability** is the degree to which a human can understand the cause of a decision.\" \\** (Miller 2017) \n",
    "<img src=\"img/decision-trees.png\" align=\"center\"/>\n",
    "\n",
    "<font size=1>Image from DL with Python Textbook (by Chollet)</font> <br>\n",
    "<font size=1> ** Miller, Tim. “Explanation in artificial intelligence: Insights from the social sciences.” arXiv Preprint arXiv:1706.07269. (2017).</font>"
   ]
  },
  {
   "cell_type": "markdown",
   "metadata": {
    "slideshow": {
     "slide_type": "slide"
    }
   },
   "source": [
    "<h1><center>ML Pipeline</center></h1>\n",
    "\n",
    "![](https://cdn-images-1.medium.com/max/1600/1*_QGyIwpgq831xI54cIe_GQ.jpeg)\n",
    "https://blog.usejournal.com/machine-learning-for-beginners-from-zero-level-8be5b89bf77c"
   ]
  },
  {
   "cell_type": "markdown",
   "metadata": {
    "slideshow": {
     "slide_type": "slide"
    }
   },
   "source": [
    "<h1><center>ML Pipeline</center></h1>\n",
    "\n",
    "<p><a href=\"https://blog.datarobot.com/ai-simplified-what-is-automated-machine-learning?mkt_tok=eyJpIjoiWkRKaVpEZ3dOMkl6TjJVMCIsInQiOiJFUDRWa1A2MFRwWDJhQ0dFQ2dYZlwvc21MdTBuTTl0OTd3Z3F3YWNTVkZTMEpjOHZOZmUrU3F4Y0hGeGM4Y1VSQ0x6bWZ6Vnh6K1hKNDZyeXlwNUIwcUg3WDlrY1JUWHd5S0xBV3lFYkRFODhqWE5wY1wvNU1HaHFNWU5SVlJTMUtzIn0%3D&amp;wvideo=k96yic0jjx\"><img src=\"https://embedwistia-a.akamaihd.net/deliveries/f2a05488965d5ec99e50fd4c96e3da850dfffcd9.jpg?image_play_button_size=2x&amp;image_crop_resized=960x540&amp;image_play_button=1&amp;image_play_button_color=54bbffe0\" width=\"400\" height=\"225\" style=\"width: 400px; height: 225px;\"></a></p><p><a href=\"https://blog.datarobot.com/ai-simplified-what-is-automated-machine-learning?mkt_tok=eyJpIjoiWkRKaVpEZ3dOMkl6TjJVMCIsInQiOiJFUDRWa1A2MFRwWDJhQ0dFQ2dYZlwvc21MdTBuTTl0OTd3Z3F3YWNTVkZTMEpjOHZOZmUrU3F4Y0hGeGM4Y1VSQ0x6bWZ6Vnh6K1hKNDZyeXlwNUIwcUg3WDlrY1JUWHd5S0xBV3lFYkRFODhqWE5wY1wvNU1HaHFNWU5SVlJTMUtzIn0%3D&amp;wvideo=k96yic0jjx\">AI Simplified: What is Machine Learning?</a></p>  by Tom (DataRobot)"
   ]
  },
  {
   "cell_type": "markdown",
   "metadata": {
    "slideshow": {
     "slide_type": "slide"
    }
   },
   "source": [
    "<h1><center>Automated ML Pipeline</center></h1>\n",
    "\n",
    "<center><img src=\"img/fig-1-3.png\" align=\"center\"/></center>\n",
    "\n",
    "<font size=1>Image from Hands-on ML Textbook</font>"
   ]
  },
  {
   "cell_type": "markdown",
   "metadata": {
    "slideshow": {
     "slide_type": "slide"
    }
   },
   "source": [
    "<h1><center>Some Examples of ML Applications</center></h1>"
   ]
  },
  {
   "cell_type": "markdown",
   "metadata": {
    "slideshow": {
     "slide_type": "slide"
    }
   },
   "source": [
    "<h1><center>Image Classification, Object Detection, Object Recognition</center></h1>\n",
    "\n",
    "<img src=\"img/object-recognition.jpg\" align=\"center\"/>"
   ]
  },
  {
   "cell_type": "code",
   "execution_count": 1,
   "metadata": {
    "slideshow": {
     "slide_type": "slide"
    }
   },
   "outputs": [
    {
     "data": {
      "image/jpeg": "[encoded data removed]",
      "text/html": [
       "\n",
       "        <iframe\n",
       "            width=\"800\"\n",
       "            height=\"500\"\n",
       "            src=\"https://www.youtube.com/embed/9reHvktowLY?autoplay=1\"\n",
       "            frameborder=\"0\"\n",
       "            allowfullscreen\n",
       "        ></iframe>\n",
       "        "
      ],
      "text/plain": [
       "<IPython.lib.display.YouTubeVideo at 0x7f3d8c6bff10>"
      ]
     },
     "execution_count": 1,
     "metadata": {},
     "output_type": "execute_result"
    }
   ],
   "source": [
    "#Object Transfiguration\n",
    "\n",
    "from IPython.display import YouTubeVideo\n",
    "YouTubeVideo('9reHvktowLY', autoplay=1, width=800, height=500)"
   ]
  },
  {
   "cell_type": "markdown",
   "metadata": {
    "slideshow": {
     "slide_type": "slide"
    }
   },
   "source": [
    "<h1><center>Natural Language Processing (NLP) and Decision Making Systems</center></h1>\n",
    "\n",
    "<img src=\"img/watson.png\" align=\"center\"/>"
   ]
  },
  {
   "cell_type": "markdown",
   "metadata": {
    "slideshow": {
     "slide_type": "slide"
    }
   },
   "source": [
    "<h1><center>Machine Translation</center></h1>\n",
    "\n",
    "<img src=\"img/ml-translation.jpg\" align=\"center\"/>"
   ]
  },
  {
   "cell_type": "markdown",
   "metadata": {
    "slideshow": {
     "slide_type": "slide"
    }
   },
   "source": [
    "<h1><center>Playing Complex Games</center></h1>\n",
    "\n",
    "- (19 x 19)! cases\n",
    "\n",
    "<img src=\"img/alphago.png\" align=\"center\"/>"
   ]
  },
  {
   "cell_type": "markdown",
   "metadata": {
    "slideshow": {
     "slide_type": "slide"
    }
   },
   "source": [
    "<h1><center>Self Driving Cars</center></h1>\n",
    "\n",
    "<img src=\"img/self-driving.jpeg\" align=\"center\"/>"
   ]
  },
  {
   "cell_type": "markdown",
   "metadata": {
    "slideshow": {
     "slide_type": "slide"
    }
   },
   "source": [
    "<h1><center>Recommender Systems</center></h1>\n",
    "\n",
    "<img src=\"img/recommender.png\" align=\"center\"/>"
   ]
  },
  {
   "cell_type": "markdown",
   "metadata": {
    "slideshow": {
     "slide_type": "slide"
    }
   },
   "source": [
    "<h1><center>Medical Image Analysis</center></h1>\n",
    "\n",
    "<img src=\"img/medical-imaging.jpg\" align=\"center\"/>"
   ]
  },
  {
   "cell_type": "markdown",
   "metadata": {
    "slideshow": {
     "slide_type": "slide"
    }
   },
   "source": [
    "<h1><center>ML Approaches</center></h1>\n",
    "\n",
    "- Supervised Learning\n",
    "  - Classification\n",
    "  - Regressions\n",
    "  \n",
    "- Unsupervised Learning\n",
    "  - Clustering\n",
    "  - Dimensionality Reduction\n",
    "  - Visualization\n",
    "  - Anomaly Detection\n",
    "\n",
    "- Semi-supervised Learning\n",
    "\n",
    "- Reinforcement Learning"
   ]
  },
  {
   "cell_type": "markdown",
   "metadata": {
    "slideshow": {
     "slide_type": "slide"
    }
   },
   "source": [
    "<h1><center>Supervised Learning - Classification</center></h1>\n",
    "\n",
    "<center><img src=\"img/supervised.jpg\" align=\"center\"/></center>"
   ]
  },
  {
   "cell_type": "markdown",
   "metadata": {
    "slideshow": {
     "slide_type": "slide"
    }
   },
   "source": [
    "<h1><center>Supervised Learning - Regression</center></h1>\n",
    "\n",
    "<center><img src=\"img/fig-1-6.png\" align=\"center\"/></center>"
   ]
  },
  {
   "cell_type": "markdown",
   "metadata": {
    "slideshow": {
     "slide_type": "slide"
    }
   },
   "source": [
    "<h1><center>Unsupervised Learning</center></h1>\n",
    "\n",
    "<center><img src=\"img/unsupervised.jpg\" align=\"center\"/></center>"
   ]
  },
  {
   "cell_type": "markdown",
   "metadata": {
    "slideshow": {
     "slide_type": "subslide"
    }
   },
   "source": [
    "<h1><center>Unsupervised Learning - Clustering</center></h1>\n",
    "\n",
    "<center><img src=\"img/clustering.jpg\" align=\"center\"/></center>"
   ]
  },
  {
   "cell_type": "markdown",
   "metadata": {
    "slideshow": {
     "slide_type": "slide"
    }
   },
   "source": [
    "<h1><center>Unsupervised Learning - Visualization</center></h1>\n",
    "\n",
    "- Visualization algorithms are also good examples of unsupervised learning algorithms:\n",
    "    - You feed them a lot of complex and unlabeled data, and they output a 2D or 3D representation of your data that can easily be plotted\n",
    "\n",
    "<center><img src=\"img/fig-1-9.png\" align=\"center\"/></center>"
   ]
  },
  {
   "cell_type": "markdown",
   "metadata": {
    "slideshow": {
     "slide_type": "slide"
    }
   },
   "source": [
    "<h1><center>Unsupervised Learning - Anomaly Detection</center></h1>\n",
    "\n",
    "- Another important unsupervised task is **anomaly detection**—for example, detecting unusual credit card transactions to prevent fraud, catching manufacturing defects, or automatically removing outliers from a dataset before feeding it to another learning algorithm.\n",
    "\n",
    "\n",
    "- The system is shown mostly normal instances during training, so it learns to recognize them; then, when it sees a new instance, it can tell whether it looks like a normal one or whether it is likely an anomaly.\n",
    "\n",
    "<center><img src=\"img/fig-1-10.png\" align=\"center\"/></center>"
   ]
  },
  {
   "cell_type": "markdown",
   "metadata": {
    "slideshow": {
     "slide_type": "slide"
    }
   },
   "source": [
    "<h1><center>Semi-Supervised Learning</center></h1>\n",
    "<center><img src=\"img/semi-supervised.jpg\" align=\"center\"/></center>"
   ]
  },
  {
   "cell_type": "markdown",
   "metadata": {
    "slideshow": {
     "slide_type": "slide"
    }
   },
   "source": [
    "<h1><center>Reinforcement Learning</center></h1>\n",
    "<center><img src=\"img/fig-1-12.png\" align=\"center\"/></center>"
   ]
  },
  {
   "cell_type": "markdown",
   "metadata": {
    "slideshow": {
     "slide_type": "slide"
    }
   },
   "source": [
    "<h1><center>Online Learning vs Batch Learning</center></h1>\n",
    "\n",
    "<center><img src=\"img/online-learning.jpg\" align=\"center\"/></center>"
   ]
  },
  {
   "cell_type": "markdown",
   "metadata": {
    "slideshow": {
     "slide_type": "subslide"
    }
   },
   "source": [
    "<h1><center>Online Learning for Huge Datasets - aka Incremental Learning</center></h1>\n",
    "\n",
    "<center><img src=\"img/online-learning2.jpg\" align=\"center\"/></center>"
   ]
  },
  {
   "cell_type": "markdown",
   "metadata": {
    "slideshow": {
     "slide_type": "slide"
    }
   },
   "source": [
    "<h1><center>ML Approach Overview</center></h1>\n",
    "\n",
    "- You study the data.\n",
    "\n",
    "\n",
    "- You select a **model**.\n",
    "\n",
    "\n",
    "- You **train** it on the training data i.e., the ML algorithm searches for the **model parameter values** that minimizes a **cost function** so that it can recognize patterns and make more accurate **predictions**.\n",
    "\n",
    "\n",
    "- You **test** the model on test set to improve the model performance w.r.t to performance measures.\n",
    "\n",
    "\n",
    "- Finally, you apply the model to make **predictions** on new cases (this is called **inference**), hoping that this model will **generalize** well."
   ]
  },
  {
   "cell_type": "code",
   "execution_count": 1,
   "metadata": {
    "slideshow": {
     "slide_type": "slide"
    }
   },
   "outputs": [
    {
     "data": {
      "image/png": "[encoded data removed]",
      "text/plain": [
       "<Figure size 432x288 with 1 Axes>"
      ]
     },
     "metadata": {
      "needs_background": "light"
     },
     "output_type": "display_data"
    },
    {
     "data": {
      "text/plain": [
       "<Figure size 432x288 with 0 Axes>"
      ]
     },
     "metadata": {},
     "output_type": "display_data"
    }
   ],
   "source": [
    "# Example of a simple linear model\n",
    "\n",
    "import warnings; warnings.simplefilter('ignore')\n",
    "%matplotlib inline\n",
    "%run -i 'python_scripts/simple_binary_classifier.py' --plot_model"
   ]
  },
  {
   "cell_type": "markdown",
   "metadata": {
    "slideshow": {
     "slide_type": "slide"
    }
   },
   "source": [
    "<h1><center>Nonlinear Patterns</center></h1>\n",
    "\n",
    "<img src=\"img/nonlineardata.png\" align=\"left\"/>\n",
    "<img src=\"img/nonlineardata2.png\" align=\"right\"/>"
   ]
  },
  {
   "cell_type": "markdown",
   "metadata": {
    "slideshow": {
     "slide_type": "slide"
    }
   },
   "source": [
    "<h1><center>Supervised Learning: Regression Models vs Classification Models</center></h1>\n",
    "\n",
    "<center>Real-valued outputs vs finite set of categorical outputs</center>"
   ]
  },
  {
   "cell_type": "markdown",
   "metadata": {
    "slideshow": {
     "slide_type": "slide"
    }
   },
   "source": [
    "<h1><center>Supervised Learning: Classification Model</center></h1>\n",
    "\n",
    "- $f: \\mathcal{X} \\rightarrow y $\n",
    "- Input: $\\mathbf{x} \\in {\\rm I\\!R}^d = \\mathcal{X}$\n",
    "- Output: $y \\in \\{-1, +1\\}$\n",
    "- Data: $D = \\{ (\\mathbf{x}_1, y_1), \\dots, (\\mathbf{x}_N, y_N) \\}$ where $y_i = f(\\mathcal{x}_i)$."
   ]
  },
  {
   "cell_type": "markdown",
   "metadata": {
    "slideshow": {
     "slide_type": "slide"
    }
   },
   "source": [
    "<h1><center>Supervised Learning: Regression Model</center></h1>\n",
    "\n",
    "- $f: \\mathcal{X} \\rightarrow y $\n",
    "- Input: $\\mathbf{x} \\in {\\rm I\\!R}^d = \\mathcal{X}$\n",
    "- <font color=\"red\">Output: $y \\in {\\rm I\\!R}$ </font>\n",
    "- Data: $D = \\{ (\\mathbf{x}_1, y_1), \\dots, (\\mathbf{x}_N, y_N) \\}$ where $y_i = f(\\mathcal{x}_i)$."
   ]
  },
  {
   "cell_type": "markdown",
   "metadata": {
    "slideshow": {
     "slide_type": "slide"
    }
   },
   "source": [
    "<h1><center>Regression</center></h1>\n",
    "\n",
    "\n",
    "<center><img src=\"img/sine_fit.png\" align=\"center\"/></center>\n",
    "\n",
    "<center><sub>Chris Bishop: Pattern Recognition</sub></center>"
   ]
  },
  {
   "cell_type": "markdown",
   "metadata": {
    "slideshow": {
     "slide_type": "slide"
    }
   },
   "source": [
    "<h1><center>Error in Regression</center></h1>\n",
    "\n",
    "\n",
    "<center><img src=\"img/error_regression.png\" align=\"center\"/></center>\n",
    "\n",
    "<center><sub>Chris Bishop: Pattern Recognition</sub></center>"
   ]
  },
  {
   "cell_type": "markdown",
   "metadata": {
    "slideshow": {
     "slide_type": "slide"
    }
   },
   "source": [
    "<h1><center>Underfitting vs Overfitting - Polynomial Regression</center></h1>\n",
    "\n",
    "<center><img src=\"img/polynomial_fit.png\" align=\"center\"/></center>\n",
    "\n",
    "<center><sub>Chris Bishop: Pattern Recognition</sub></center>"
   ]
  },
  {
   "cell_type": "markdown",
   "metadata": {
    "slideshow": {
     "slide_type": "slide"
    }
   },
   "source": [
    "<h1><center>Underfitting vs Overfitting - Classification</center></h1>\n",
    "\n",
    "<center><img src=\"img/overfitting.jpg\" align=\"center\"/></center>"
   ]
  },
  {
   "cell_type": "markdown",
   "metadata": {
    "slideshow": {
     "slide_type": "slide"
    }
   },
   "source": [
    "<h1><center>Main Challenges in ML</center></h1>\n",
    "\n",
    "- <b>Insufficient Quantity of Data</b> \n",
    "- <b>Non-representative Training Data</b> \n",
    "- <b>Poor Quality Data</b>\n",
    "- <b>Irrelevant Features</b>\n",
    "- <b>Overfitting training data</b>\n",
    "- <b>Underfitting training data</b>"
   ]
  },
  {
   "cell_type": "markdown",
   "metadata": {
    "slideshow": {
     "slide_type": "slide"
    }
   },
   "source": [
    "References:\n",
    "\n",
    "- Hands-On ML Textbook\n",
    "\n",
    "- Some slides are adopted from M.J. Lee's materials from UNCC"
   ]
  }
 ],
 "metadata": {
  "celltoolbar": "Slideshow",
  "kernelspec": {
   "display_name": "Python 3",
   "language": "python",
   "name": "python3"
  },
  "language_info": {
   "codemirror_mode": {
    "name": "ipython",
    "version": 3
   },
   "file_extension": ".py",
   "mimetype": "text/x-python",
   "name": "python",
   "nbconvert_exporter": "python",
   "pygments_lexer": "ipython3",
   "version": "3.8.8"
  }
 },
 "nbformat": 4,
 "nbformat_minor": 2
}
